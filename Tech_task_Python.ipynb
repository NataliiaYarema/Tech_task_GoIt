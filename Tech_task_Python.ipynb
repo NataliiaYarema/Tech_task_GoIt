{
 "cells": [
  {
   "cell_type": "markdown",
   "id": "5350d561-a22b-4b69-a193-36be12acc155",
   "metadata": {},
   "source": [
    "# Технічне завдання до вакансії Junior Data Analyst\n",
    "*Виконавець:* **Наталія Ярема**"
   ]
  },
  {
   "cell_type": "markdown",
   "id": "5d93b05a-3b82-45d8-9ee3-9e19e8456698",
   "metadata": {},
   "source": [
    "## Python"
   ]
  },
  {
   "cell_type": "markdown",
   "id": "07eb33de-317a-41ba-a314-8d121e42ff46",
   "metadata": {},
   "source": [
    "*Завдання 1. Створити функцію, яка приймає два аргументи (число та ступінь), та повертає результат підняття числа до вказаної ступені*"
   ]
  },
  {
   "cell_type": "code",
   "execution_count": 1,
   "id": "435f6cee-bdfa-470f-86e6-cf4cf879a43d",
   "metadata": {},
   "outputs": [
    {
     "name": "stdin",
     "output_type": "stream",
     "text": [
      "Enter the number:  2\n",
      "Enter the exponent:  3\n"
     ]
    },
    {
     "name": "stdout",
     "output_type": "stream",
     "text": [
      "\n",
      "Result: 2.0 raised to the power of 3.0 = 8.0\n"
     ]
    }
   ],
   "source": [
    "def raise_to_power(number, exponent):\n",
    "    return number ** exponent\n",
    "\n",
    "try:\n",
    "    number_input = float(input(\"Enter the number: \"))\n",
    "    exponent_input = float(input(\"Enter the exponent: \"))\n",
    "\n",
    "    result = raise_to_power(number_input, exponent_input)\n",
    "    print(f\"\\nResult: {number_input} raised to the power of {exponent_input} = {result}\")\n",
    "\n",
    "except ValueError:\n",
    "    print(\"❌ Error: please enter numeric values.\")"
   ]
  },
  {
   "cell_type": "markdown",
   "id": "dd6365fe-7c12-449b-b5b1-c3cfb692ab45",
   "metadata": {},
   "source": [
    "*Завдання 2. Написати програму, яка виводить всі парні числа від 1 до 20.*"
   ]
  },
  {
   "cell_type": "code",
   "execution_count": 2,
   "id": "4df45cc1-f5c4-45c5-ba60-b40a2730e7c1",
   "metadata": {},
   "outputs": [
    {
     "name": "stdout",
     "output_type": "stream",
     "text": [
      "Even numbers from 1 to 20:\n",
      "2\n",
      "4\n",
      "6\n",
      "8\n",
      "10\n",
      "12\n",
      "14\n",
      "16\n",
      "18\n",
      "20\n"
     ]
    }
   ],
   "source": [
    "print(\"Even numbers from 1 to 20:\")\n",
    "\n",
    "for number in range(1, 21):\n",
    "    if number % 2 == 0:\n",
    "        print(number)"
   ]
  },
  {
   "cell_type": "markdown",
   "id": "8900554d-c856-420c-98fd-98f4fff4e404",
   "metadata": {},
   "source": [
    "*Завдання 3. Створити список чисел від 1 до 10, та вивести його зворотньо.*"
   ]
  },
  {
   "cell_type": "code",
   "execution_count": 3,
   "id": "7498f051-9754-4266-bf32-b2696ff85dfe",
   "metadata": {},
   "outputs": [
    {
     "name": "stdout",
     "output_type": "stream",
     "text": [
      "Original list: [1, 2, 3, 4, 5, 6, 7, 8, 9, 10]\n",
      "Reversed list: [10, 9, 8, 7, 6, 5, 4, 3, 2, 1]\n"
     ]
    }
   ],
   "source": [
    "numbers = list(range(1, 11))\n",
    "\n",
    "print(\"Original list:\", numbers)\n",
    "print(\"Reversed list:\", numbers[::-1])"
   ]
  },
  {
   "cell_type": "markdown",
   "id": "f101e8a4-78f4-4aba-9a36-a9a8c3778b89",
   "metadata": {},
   "source": [
    "*Завдання 4. Написати функцію, яка приймає рядок та повертає кількість унікальних символів у цьому рядку*"
   ]
  },
  {
   "cell_type": "code",
   "execution_count": 4,
   "id": "05c43317-7960-4836-8e30-03f3f5f1b65c",
   "metadata": {},
   "outputs": [
    {
     "name": "stdin",
     "output_type": "stream",
     "text": [
      "Enter a string:  hhhnnn\n"
     ]
    },
    {
     "name": "stdout",
     "output_type": "stream",
     "text": [
      "Number of unique characters: 2\n"
     ]
    }
   ],
   "source": [
    "def count_unique_characters(text):\n",
    "    \n",
    "    unique_chars = set(text)\n",
    "    return len(unique_chars)\n",
    "\n",
    "input_string = input(\"Enter a string: \")\n",
    "result = count_unique_characters(input_string)\n",
    "print(f\"Number of unique characters: {result}\")"
   ]
  },
  {
   "cell_type": "markdown",
   "id": "6c6fdd47-7a05-46ae-a7ec-1ceec2dab4c4",
   "metadata": {},
   "source": [
    "*Завдання 5. Перевернути массив використовуючи зворотню індексацію.*"
   ]
  },
  {
   "cell_type": "code",
   "execution_count": 5,
   "id": "842e03eb-b6ef-4f57-83f6-ab4437ba0c5a",
   "metadata": {},
   "outputs": [
    {
     "name": "stdin",
     "output_type": "stream",
     "text": [
      "Enter an array:  222555\n"
     ]
    },
    {
     "name": "stdout",
     "output_type": "stream",
     "text": [
      "Original array: ['2', '2', '2', '5', '5', '5']\n",
      "Reversed array: ['5', '5', '5', '2', '2', '2']\n"
     ]
    }
   ],
   "source": [
    "def reverse_array(arr):\n",
    "\n",
    "    return arr[::-1]\n",
    "\n",
    "input_string = input(\"Enter an array: \")\n",
    "\n",
    "arr = list(input_string)\n",
    "\n",
    "reversed_arr = reverse_array(arr)\n",
    "\n",
    "print(\"Original array:\", arr)\n",
    "print(\"Reversed array:\", reversed_arr)"
   ]
  },
  {
   "cell_type": "markdown",
   "id": "3baa0f1e-9fea-41f1-a756-49b096d39e2d",
   "metadata": {},
   "source": [
    "*Завдання 6. Створити словник, який містить дані про книгу (назва, автор, рік видання) та вивести його вміст*"
   ]
  },
  {
   "cell_type": "code",
   "execution_count": 6,
   "id": "6988b2ec-6bbc-4cf0-a64f-33df3f393882",
   "metadata": {},
   "outputs": [
    {
     "name": "stdout",
     "output_type": "stream",
     "text": [
      "\n",
      "Book details:\n",
      "Title: War and Peace\n",
      "Author: Leo Tolstoy\n",
      "Year: 1869\n"
     ]
    }
   ],
   "source": [
    "book = {\n",
    "    \"title\": \"War and Peace\",\n",
    "    \"author\": \"Leo Tolstoy\",\n",
    "    \"year\": 1869\n",
    "}\n",
    "\n",
    "print(\"\\nBook details:\")\n",
    "for key, value in book.items():\n",
    "    print(f\"{key.capitalize()}: {value}\")"
   ]
  },
  {
   "cell_type": "markdown",
   "id": "9b6ee7a1-674e-4311-948a-8994a8e338d7",
   "metadata": {},
   "source": [
    "*Завдання 7. Написати програму, яка обчислює суму перших 100 натуральних чисел*"
   ]
  },
  {
   "cell_type": "code",
   "execution_count": 7,
   "id": "0abb932c-d0c6-4a85-a777-68b49a4ada2d",
   "metadata": {},
   "outputs": [
    {
     "name": "stdout",
     "output_type": "stream",
     "text": [
      "Сума перших 100 натуральних чисел: 5050\n"
     ]
    }
   ],
   "source": [
    "n = 100\n",
    "\n",
    "sum_n_loop = 0\n",
    "for i in range(1, n + 1):\n",
    "    sum_n_loop += i\n",
    "print(f\"Сума перших {n} натуральних чисел: {sum_n_loop}\")"
   ]
  },
  {
   "cell_type": "code",
   "execution_count": null,
   "id": "d45f972e-990a-4525-8d2a-6875096bf256",
   "metadata": {},
   "outputs": [],
   "source": []
  }
 ],
 "metadata": {
  "kernelspec": {
   "display_name": "Python [conda env:base] *",
   "language": "python",
   "name": "conda-base-py"
  },
  "language_info": {
   "codemirror_mode": {
    "name": "ipython",
    "version": 3
   },
   "file_extension": ".py",
   "mimetype": "text/x-python",
   "name": "python",
   "nbconvert_exporter": "python",
   "pygments_lexer": "ipython3",
   "version": "3.13.5"
  }
 },
 "nbformat": 4,
 "nbformat_minor": 5
}
