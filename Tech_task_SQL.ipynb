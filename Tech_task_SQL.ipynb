{
 "cells": [
  {
   "cell_type": "markdown",
   "id": "5350d561-a22b-4b69-a193-36be12acc155",
   "metadata": {},
   "source": [
    "# Технічне завдання до вакансії Junior Data Analyst\n",
    "*Виконавець:* **Наталія Ярема**"
   ]
  },
  {
   "cell_type": "markdown",
   "id": "024aaa10-67a3-415b-97fc-3e748a1eec6f",
   "metadata": {},
   "source": [
    "## SQL"
   ]
  },
  {
   "cell_type": "markdown",
   "id": "06dc79b6-2c31-4b6b-9d09-a67ca2a1b7df",
   "metadata": {},
   "source": [
    "*Завдання 1. Вивести всі дані з таблиці \"employees\".*\n",
    "\n",
    "SELECT *    \n",
    "FROM EMPLOYEES;"
   ]
  },
  {
   "cell_type": "markdown",
   "id": "fec87f66-6a13-4984-b36e-0f68e7c1fe62",
   "metadata": {},
   "source": [
    "*Завдання 2. Вибрати імена та зарплати всіх працівників, які отримують більше 50000.*\n",
    "\n",
    "SELECT   \n",
    "    name  \n",
    "    , salary  \n",
    "FROM EMPLOYEES  \n",
    "WHERE salary > 50000;"
   ]
  },
  {
   "cell_type": "markdown",
   "id": "6991d262-f4fa-43f6-b684-9b419008cfd5",
   "metadata": {},
   "source": [
    "*Завдання 3. Знайти кількість працівників в департаменті з ідентифікатором 10.*\n",
    "\n",
    "SELECT   \n",
    "    COUNT(employee_id) AS employee_count_in_dep_10  \n",
    "FROM EMPLOYEES  \n",
    "WHERE department_id = 10;"
   ]
  },
  {
   "cell_type": "markdown",
   "id": "899b22f8-0685-43f1-9c8c-688f4d6195ee",
   "metadata": {},
   "source": [
    "*Завдання 4. Вивести унікальні департаменти в яких працюють працівники з таблиці \"departments\".*\n",
    "\n",
    "SELECT   \n",
    "DISTINCT e.department_id  \n",
    ", d.department_name  \n",
    "FROM EMPLOYEES e  \n",
    "JOIN DEPARTMENTS d on e.department_id = d.department_id;"
   ]
  },
  {
   "cell_type": "markdown",
   "id": "f934e363-ad86-4916-aa01-e57ae8398864",
   "metadata": {},
   "source": [
    "*Завдання 5. Вивести загальну кількість працівників в кожному департаменті та середню зарплату.*\n",
    "\n",
    "SELECT   \n",
    "d.department_name  \n",
    ", COUNT(e.employee_id) AS employee_count  \n",
    ", AVG(e.salary) AS average_salary  \n",
    "FROM EMPLOYEES e  \n",
    "JOIN DEPARTMENTS d ON e.department_id = d.department_id  \n",
    "GROUP BY d.department_name;"
   ]
  },
  {
   "cell_type": "markdown",
   "id": "6438e726-32a9-4f06-8405-1f014f182f4b",
   "metadata": {},
   "source": [
    "*Завдання 6. Знайти працівника з найвищою зарплатою та вказати назву його департаменту department_name.*\n",
    "\n",
    "SELECT   \n",
    "d.department_name  \n",
    ", e.salary AS max_salary  \n",
    "FROM EMPLOYEES e  \n",
    "JOIN DEPARTMENTS d ON e.department_id = d.department_id  \n",
    "WHERE e.salary = (SELECT MAX(salary) FROM EMPLOYEES);  \n",
    "\n",
    "*або*  \n",
    "\n",
    "SELECT   \n",
    "e.name  \n",
    ", e.salary  \n",
    ", d.department_name  \n",
    "FROM EMPLOYEES e  \n",
    "JOIN DEPARTMENTS USING(department_id)  \n",
    "WHERE e.salary = (SELECT MAX(salary) FROM EMPLOYEES);"
   ]
  },
  {
   "cell_type": "markdown",
   "id": "170dfba8-b3b6-40a8-904d-c746acdd7130",
   "metadata": {},
   "source": [
    "*Завдання 7. Вивести загальну суму зарплат у кожному департаменті та відсортувати в порядку спадання.*\n",
    "\n",
    "SELECT   \n",
    "d.department_name  \n",
    ", SUM(e.salary) AS total_salary  \n",
    "FROM EMPLOYEES e  \n",
    "JOIN DEPARTMENTS d ON e.department_id = d.department_id  \n",
    "GROUP BY d.department_name  \n",
    "ORDER BY total_salary DESC;"
   ]
  },
  {
   "cell_type": "markdown",
   "id": "6854477d-7ed6-4eec-be4d-7bd7c8c2d97c",
   "metadata": {},
   "source": [
    "*Завдання 8. Знайти середню зарплату для працівників, найманих після 1 січня 2022 року.*\n",
    "\n",
    "SELECT   \n",
    "AVG(salary) AS avg_salary_starting_jan2022  \n",
    "FROM EMPLOYEES  \n",
    "WHERE hire_date > '2022-01-01';"
   ]
  },
  {
   "cell_type": "markdown",
   "id": "98e3e769-908d-4d85-bd9a-0b745b5386bd",
   "metadata": {},
   "source": [
    "*Завдання 9. Вивести топ-3 департаменти з найвищою середньою зарплатою.*\n",
    "\n",
    "SELECT   \n",
    "d.department_name  \n",
    ", AVG(e.salary) AS top_avg_salary  \n",
    "FROM EMPLOYEES e  \n",
    "JOIN DEPARTMENTS d ON e.department_id = d.department_id  \n",
    "GROUP BY d.department_name  \n",
    "ORDER BY top_avg_salary DESC  \n",
    "LIMIT 3;"
   ]
  },
  {
   "cell_type": "markdown",
   "id": "a0c85cab-655f-478b-94a1-5e47c5ef4295",
   "metadata": {},
   "source": [
    "*Завдання 10. Вивести назву департаменту з другою найбільшою середньою зарплатнею.*\n",
    "\n",
    "SELECT   \n",
    "d.department_name  \n",
    ", AVG(e.salary) AS top_avg_salary  \n",
    "FROM EMPLOYEES e  \n",
    "JOIN DEPARTMENTS d ON e.department_id = d.department_id  \n",
    "GROUP BY d.department_name  \n",
    "ORDER BY top_avg_salary DESC  \n",
    "LIMIT 2 OFFSET 1;"
   ]
  },
  {
   "cell_type": "markdown",
   "id": "e41a4e92-35ff-4799-8584-d53fd212bb93",
   "metadata": {},
   "source": [
    "*Завдання 11. Вибрати імена працівників, які мають унікальні зарплати та працюють в IT-відділі.*\n",
    "\n",
    "SELECT   \n",
    "e.name  \n",
    ", e.salary AS uniq_it_salaries  \n",
    "FROM EMPLOYEES e  \n",
    "JOIN DEPARTMENTS d ON e.department_id = d.department_id  \n",
    "WHERE LOWER(d.department_name) = 'it'  \n",
    "AND e.salary IN (  \n",
    "SELECT   \n",
    "salary  \n",
    "FROM EMPLOYEES  \n",
    "GROUP BY salary  \n",
    "HAVING COUNT(*) = 1);"
   ]
  },
  {
   "cell_type": "code",
   "execution_count": null,
   "id": "9a5d061e-3120-45e6-a86d-98608a25e2ac",
   "metadata": {},
   "outputs": [],
   "source": []
  }
 ],
 "metadata": {
  "kernelspec": {
   "display_name": "Python [conda env:base] *",
   "language": "python",
   "name": "conda-base-py"
  },
  "language_info": {
   "codemirror_mode": {
    "name": "ipython",
    "version": 3
   },
   "file_extension": ".py",
   "mimetype": "text/x-python",
   "name": "python",
   "nbconvert_exporter": "python",
   "pygments_lexer": "ipython3",
   "version": "3.13.5"
  }
 },
 "nbformat": 4,
 "nbformat_minor": 5
}
